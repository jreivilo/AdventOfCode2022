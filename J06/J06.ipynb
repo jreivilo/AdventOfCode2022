{
 "cells": [
  {
   "cell_type": "code",
   "execution_count": 74,
   "metadata": {},
   "outputs": [],
   "source": [
    "#read txt\n",
    "import pandas as pd\n",
    "import numpy as np\n",
    "import re\n",
    "import matplotlib.pyplot as plt\n",
    "openfile = open('J06.txt','r')\n",
    "list = []\n",
    "list = openfile.readlines()\n",
    "\n",
    "for i in range(len(list)):\n",
    "    list[i] = list[i].replace('\\n','')"
   ]
  },
  {
   "cell_type": "code",
   "execution_count": 75,
   "metadata": {},
   "outputs": [
    {
     "data": {
      "text/plain": [
       "4095"
      ]
     },
     "execution_count": 75,
     "metadata": {},
     "output_type": "execute_result"
    }
   ],
   "source": [
    "len(list[0])"
   ]
  },
  {
   "cell_type": "code",
   "execution_count": 76,
   "metadata": {},
   "outputs": [
    {
     "name": "stdout",
     "output_type": "stream",
     "text": [
      "1920\n",
      "['b', 'r', 'm', 'd']\n"
     ]
    }
   ],
   "source": [
    "def check(letter, c):\n",
    "    for i in range(len(letter)):\n",
    "        if c == letter[i]:\n",
    "            return 1\n",
    "    return 0\n",
    "    \n",
    "    \n",
    "    \n",
    "letter = []\n",
    "for i in range(len(list[0])):\n",
    "    for j in range(4):\n",
    "        if check(letter, list[0][i + j]) == 0:\n",
    "            letter.append(list[0][i + j])\n",
    "        elif check(letter, list[0][i + j]) == 1:\n",
    "            letter = []\n",
    "            break\n",
    "        if len (letter) == 4:\n",
    "            break\n",
    "    if len (letter) == 4:\n",
    "        break\n",
    "print(i + 4)\n",
    "print(letter)\n",
    "\n",
    "    "
   ]
  },
  {
   "cell_type": "code",
   "execution_count": 77,
   "metadata": {},
   "outputs": [
    {
     "name": "stdout",
     "output_type": "stream",
     "text": [
      "2334\n",
      "['q', 't', 'p', 'd', 'm', 'f', 'c', 'w', 'g', 'l', 'n', 'b', 'j', 'z']\n"
     ]
    }
   ],
   "source": [
    "def check(letter, c):\n",
    "    for i in range(len(letter)):\n",
    "        if c == letter[i]:\n",
    "            return 1\n",
    "    return 0\n",
    "    \n",
    "    \n",
    "    \n",
    "letter = []\n",
    "for i in range(len(list[0])):\n",
    "    for j in range(14):\n",
    "        if check(letter, list[0][i + j]) == 0:\n",
    "            letter.append(list[0][i + j])\n",
    "        elif check(letter, list[0][i + j]) == 1:\n",
    "            letter = []\n",
    "            break\n",
    "        if len (letter) == 14:\n",
    "            break\n",
    "    if len (letter) == 14:\n",
    "        break\n",
    "print(i + 14)\n",
    "print(letter)\n"
   ]
  }
 ],
 "metadata": {
  "kernelspec": {
   "display_name": "Python 3.9.13 ('base')",
   "language": "python",
   "name": "python3"
  },
  "language_info": {
   "codemirror_mode": {
    "name": "ipython",
    "version": 3
   },
   "file_extension": ".py",
   "mimetype": "text/x-python",
   "name": "python",
   "nbconvert_exporter": "python",
   "pygments_lexer": "ipython3",
   "version": "3.9.13"
  },
  "orig_nbformat": 4,
  "vscode": {
   "interpreter": {
    "hash": "ad2bdc8ecc057115af97d19610ffacc2b4e99fae6737bb82f5d7fb13d2f2c186"
   }
  }
 },
 "nbformat": 4,
 "nbformat_minor": 2
}
