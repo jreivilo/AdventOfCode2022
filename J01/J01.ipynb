{
 "cells": [
  {
   "cell_type": "code",
   "execution_count": 131,
   "metadata": {},
   "outputs": [
    {
     "name": "stdout",
     "output_type": "stream",
     "text": [
      "71023\n"
     ]
    }
   ],
   "source": [
    "#read txt\n",
    "import pandas as pd\n",
    "import numpy as np\n",
    "import matplotlib.pyplot as plt\n",
    "openfile = open('J01.txt','r')\n",
    "list = []\n",
    "list = openfile.readlines()\n",
    "for i in range(len(list)):\n",
    "    list[i] = list[i].replace('\\n','')\n",
    "\n",
    "temp = 0\n",
    "max = 0\n",
    "for i in range(len(list)):\n",
    "    if list[i] == '':\n",
    "        if temp > max:\n",
    "            max = temp\n",
    "        temp = 0\n",
    "    else:\n",
    "        temp = temp + int(list[i])\n",
    "print(max)\n"
   ]
  },
  {
   "cell_type": "code",
   "execution_count": 140,
   "metadata": {},
   "outputs": [
    {
     "data": {
      "text/plain": [
       "206289"
      ]
     },
     "execution_count": 140,
     "metadata": {},
     "output_type": "execute_result"
    }
   ],
   "source": [
    "#read txt\n",
    "import pandas as pd\n",
    "import numpy as np\n",
    "import matplotlib.pyplot as plt\n",
    "openfile = open('J01.txt','r')\n",
    "list = []\n",
    "tot = []\n",
    "list = openfile.readlines()\n",
    "for i in range(len(list)):\n",
    "    list[i] = list[i].replace('\\n','')\n",
    "\n",
    "temp = 0\n",
    "max = 0\n",
    "for i in range(len(list)):\n",
    "    if list[i] == '':\n",
    "        if temp > max:\n",
    "            tot.append(temp)\n",
    "        temp = 0\n",
    "    else:\n",
    "        temp = temp + int(list[i])\n",
    "\n",
    "#sort tot max to min\n",
    "tot.sort(reverse=True)\n",
    "top3 = 0\n",
    "for i in range(3):\n",
    "    top3 = top3 + tot[i]\n",
    "top3"
   ]
  }
 ],
 "metadata": {
  "kernelspec": {
   "display_name": "Python 3.9.13 ('base')",
   "language": "python",
   "name": "python3"
  },
  "language_info": {
   "codemirror_mode": {
    "name": "ipython",
    "version": 3
   },
   "file_extension": ".py",
   "mimetype": "text/x-python",
   "name": "python",
   "nbconvert_exporter": "python",
   "pygments_lexer": "ipython3",
   "version": "3.9.13"
  },
  "orig_nbformat": 4,
  "vscode": {
   "interpreter": {
    "hash": "ad2bdc8ecc057115af97d19610ffacc2b4e99fae6737bb82f5d7fb13d2f2c186"
   }
  }
 },
 "nbformat": 4,
 "nbformat_minor": 2
}
