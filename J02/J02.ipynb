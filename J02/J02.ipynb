{
 "cells": [
  {
   "cell_type": "code",
   "execution_count": 38,
   "metadata": {},
   "outputs": [],
   "source": [
    "#read txt\n",
    "import pandas as pd\n",
    "import numpy as np\n",
    "import matplotlib.pyplot as plt\n",
    "openfile = open('J02.txt','r')\n",
    "list = []\n",
    "list = openfile.readlines()\n",
    "\n",
    "for i in range(len(list)):\n",
    "    list[i] = list[i].replace('\\n','')"
   ]
  },
  {
   "cell_type": "code",
   "execution_count": 21,
   "metadata": {},
   "outputs": [
    {
     "data": {
      "text/plain": [
       "'X'"
      ]
     },
     "execution_count": 21,
     "metadata": {},
     "output_type": "execute_result"
    }
   ],
   "source": [
    "list[0][2]"
   ]
  },
  {
   "cell_type": "code",
   "execution_count": 37,
   "metadata": {},
   "outputs": [
    {
     "name": "stdout",
     "output_type": "stream",
     "text": [
      "0\n"
     ]
    }
   ],
   "source": [
    "tot = 0\n",
    "for i in range(len(list)):\n",
    "    if list[i][0] == 'A':\n",
    "        if list[i][2] == 'X':\n",
    "            tot += 1\n",
    "            tot += 3\n",
    "        if list[i][2] == 'Y':\n",
    "            tot += 2\n",
    "            tot += 6\n",
    "        if list[i][2] == 'Z':\n",
    "            tot += 3\n",
    "            tot += 0\n",
    "    if list[i][0] == 'B':\n",
    "        if list[i][2] == 'X':\n",
    "            tot += 1\n",
    "            tot += 0\n",
    "        if list[i][2] == 'Y':\n",
    "            tot += 2\n",
    "            tot += 3\n",
    "        if list[i][2] == 'Z':\n",
    "            tot += 3\n",
    "            tot += 6\n",
    "    if list[i][0] == 'C':\n",
    "        if list[i][2] == 'X':\n",
    "            tot += 1\n",
    "            tot += 6\n",
    "        if list[i][2] == 'Y':\n",
    "            tot += 2\n",
    "            tot += 0\n",
    "        if list[i][2] == 'Z':\n",
    "            tot += 3\n",
    "            tot += 3\n",
    "print(tot)"
   ]
  },
  {
   "cell_type": "code",
   "execution_count": 36,
   "metadata": {},
   "outputs": [
    {
     "ename": "IndexError",
     "evalue": "string index out of range",
     "output_type": "error",
     "traceback": [
      "\u001b[1;31m---------------------------------------------------------------------------\u001b[0m",
      "\u001b[1;31mIndexError\u001b[0m                                Traceback (most recent call last)",
      "\u001b[1;32m~\\AppData\\Local\\Temp\\ipykernel_9636\\1456120286.py\u001b[0m in \u001b[0;36m<module>\u001b[1;34m\u001b[0m\n\u001b[1;32m----> 1\u001b[1;33m \u001b[0mlist\u001b[0m\u001b[1;33m[\u001b[0m\u001b[1;36m2\u001b[0m\u001b[1;33m]\u001b[0m\u001b[1;33m\u001b[0m\u001b[1;33m\u001b[0m\u001b[0m\n\u001b[0m",
      "\u001b[1;31mIndexError\u001b[0m: string index out of range"
     ]
    }
   ],
   "source": [
    "list[2]"
   ]
  },
  {
   "cell_type": "code",
   "execution_count": 42,
   "metadata": {},
   "outputs": [
    {
     "data": {
      "text/plain": [
       "'Z'"
      ]
     },
     "execution_count": 42,
     "metadata": {},
     "output_type": "execute_result"
    }
   ],
   "source": [
    "list[0][2].replace('X','Z')"
   ]
  },
  {
   "cell_type": "code",
   "execution_count": 27,
   "metadata": {},
   "outputs": [
    {
     "name": "stdout",
     "output_type": "stream",
     "text": [
      "11873\n"
     ]
    }
   ],
   "source": [
    "for i in range(len(list)):\n",
    "    if list[i][0] == 'A':\n",
    "        if list[i][2] == 'X':\n",
    "            list[i][2].replace('X','Z')\n",
    "        if list[i][2] == 'Y':\n",
    "            list[i][2].replace('Y','X')\n",
    "        if list[i][2] == 'Z':\n",
    "            list[i][2].replace('Z','Y')\n",
    "    if list[i][0] == 'B':\n",
    "        if list[i][2] == 'X':\n",
    "            list[i][2].replace('X','Z')\n",
    "        if list[i][2] == 'Y':\n",
    "            list[i][2].replace('Y','Y')\n",
    "        if list[i][2] == 'Z':\n",
    "            list[i][2].replace('Z','X')\n",
    "    if list[i][0] == 'C':\n",
    "        if list[i][2] == 'X':\n",
    "            list[i][2].replace('X','X')\n",
    "        if list[i][2] == 'Y':\n",
    "            list[i][2].replace('Y','Z')\n",
    "        if list[i][2] == 'Z':\n",
    "            list[i][2].replace('Z','Y')\n",
    "            \n",
    "tot = 0\n",
    "for i in range(len(list)):\n",
    "    if list[i][0] == 'A':\n",
    "        if list[i][2] == 'X':\n",
    "            tot += 1\n",
    "            tot += 3\n",
    "        if list[i][2] == 'Y':\n",
    "            tot += 2\n",
    "            tot += 6\n",
    "        if list[i][2] == 'Z':\n",
    "            tot += 3\n",
    "            tot += 0\n",
    "    if list[i][0] == 'B':\n",
    "        if list[i][2] == 'X':\n",
    "            tot += 1\n",
    "            tot += 0\n",
    "        if list[i][2] == 'Y':\n",
    "            tot += 2\n",
    "            tot += 3\n",
    "        if list[i][2] == 'Z':\n",
    "            tot += 3\n",
    "            tot += 6\n",
    "    if list[i][0] == 'C':\n",
    "        if list[i][2] == 'X':\n",
    "            tot += 1\n",
    "            tot += 6\n",
    "        if list[i][2] == 'Y':\n",
    "            tot += 2\n",
    "            tot += 0\n",
    "        if list[i][2] == 'Z':\n",
    "            tot += 3\n",
    "            tot += 3\n",
    "print(tot)\n"
   ]
  }
 ],
 "metadata": {
  "kernelspec": {
   "display_name": "Python 3.9.13 ('base')",
   "language": "python",
   "name": "python3"
  },
  "language_info": {
   "codemirror_mode": {
    "name": "ipython",
    "version": 3
   },
   "file_extension": ".py",
   "mimetype": "text/x-python",
   "name": "python",
   "nbconvert_exporter": "python",
   "pygments_lexer": "ipython3",
   "version": "3.9.13"
  },
  "orig_nbformat": 4,
  "vscode": {
   "interpreter": {
    "hash": "ad2bdc8ecc057115af97d19610ffacc2b4e99fae6737bb82f5d7fb13d2f2c186"
   }
  }
 },
 "nbformat": 4,
 "nbformat_minor": 2
}
