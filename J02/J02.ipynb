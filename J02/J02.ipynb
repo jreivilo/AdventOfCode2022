{
 "cells": [
  {
   "cell_type": "code",
   "execution_count": 6,
   "metadata": {},
   "outputs": [],
   "source": [
    "#read txt\n",
    "import pandas as pd\n",
    "import numpy as np\n",
    "import matplotlib.pyplot as plt\n",
    "openfile = open('J02.txt','r')\n",
    "list = []\n",
    "list = openfile.readlines()\n",
    "\n",
    "for i in range(len(list)):\n",
    "    list[i] = list[i].replace('\\n','')"
   ]
  },
  {
   "cell_type": "code",
   "execution_count": 8,
   "metadata": {},
   "outputs": [
    {
     "name": "stdout",
     "output_type": "stream",
     "text": [
      "11873\n"
     ]
    }
   ],
   "source": [
    "tot = 0\n",
    "for i in range(len(list)):\n",
    "    if list[i][0] == 'A':\n",
    "        if list[i][2] == 'X':\n",
    "            tot += 1\n",
    "            tot += 3\n",
    "        if list[i][2] == 'Y':\n",
    "            tot += 2\n",
    "            tot += 6\n",
    "        if list[i][2] == 'Z':\n",
    "            tot += 3\n",
    "            tot += 0\n",
    "    if list[i][0] == 'B':\n",
    "        if list[i][2] == 'X':\n",
    "            tot += 1\n",
    "            tot += 0\n",
    "        if list[i][2] == 'Y':\n",
    "            tot += 2\n",
    "            tot += 3\n",
    "        if list[i][2] == 'Z':\n",
    "            tot += 3\n",
    "            tot += 6\n",
    "    if list[i][0] == 'C':\n",
    "        if list[i][2] == 'X':\n",
    "            tot += 1\n",
    "            tot += 6\n",
    "        if list[i][2] == 'Y':\n",
    "            tot += 2\n",
    "            tot += 0\n",
    "        if list[i][2] == 'Z':\n",
    "            tot += 3\n",
    "            tot += 3\n",
    "print(tot)"
   ]
  },
  {
   "cell_type": "code",
   "execution_count": 3,
   "metadata": {},
   "outputs": [
    {
     "name": "stdout",
     "output_type": "stream",
     "text": [
      "12014\n"
     ]
    }
   ],
   "source": [
    "def score(list):  \n",
    "    tot = 0\n",
    "    if list[0] == 'A':\n",
    "        if list[2] == 'X':\n",
    "            tot += 1\n",
    "            tot += 3\n",
    "        if list[2] == 'Y':\n",
    "            tot += 2\n",
    "            tot += 6\n",
    "        if list[2] == 'Z':\n",
    "            tot += 3\n",
    "            tot += 0\n",
    "    if list[0] == 'B':\n",
    "        if list[2] == 'X':\n",
    "            tot += 1\n",
    "            tot += 0\n",
    "        if list[2] == 'Y':\n",
    "            tot += 2\n",
    "            tot += 3\n",
    "        if list[2] == 'Z':\n",
    "            tot += 3\n",
    "            tot += 6\n",
    "    if list[0] == 'C':\n",
    "        if list[2] == 'X':\n",
    "            tot += 1\n",
    "            tot += 6\n",
    "        if list[2] == 'Y':\n",
    "            tot += 2\n",
    "            tot += 0\n",
    "        if list[2] == 'Z':\n",
    "            tot += 3\n",
    "            tot += 3\n",
    "    return tot\n",
    "\n",
    "tot_final = 0\n",
    "for i in range(len(list)):\n",
    "    if list[i][0] == 'A':\n",
    "        if list[i][2] == 'X':\n",
    "            tot_final += score(list[i].replace('X','Z'))\n",
    "        if list[i][2] == 'Y':\n",
    "            tot_final += score(list[i].replace('Y','X'))\n",
    "        if list[i][2] == 'Z':\n",
    "            tot_final += score(list[i].replace('Z','Y'))\n",
    "    if list[i][0] == 'B':\n",
    "        if list[i][2] == 'X':\n",
    "            tot_final += score(list[i].replace('X','X'))\n",
    "        if list[i][2] == 'Y':\n",
    "            tot_final += score(list[i].replace('Y','Y'))\n",
    "        if list[i][2] == 'Z':\n",
    "            tot_final += score(list[i].replace('Z','Z'))\n",
    "    if list[i][0] == 'C':\n",
    "        if list[i][2] == 'X':\n",
    "            tot_final += score(list[i].replace('X','Y'))\n",
    "        if list[i][2] == 'Y':\n",
    "            tot_final += score(list[i].replace('Y','Z'))\n",
    "        if list[i][2] == 'Z':\n",
    "            tot_final += score(list[i].replace('Z','X'))\n",
    "       \n",
    "print(tot_final)\n"
   ]
  }
 ],
 "metadata": {
  "kernelspec": {
   "display_name": "Python 3.9.13 ('base')",
   "language": "python",
   "name": "python3"
  },
  "language_info": {
   "codemirror_mode": {
    "name": "ipython",
    "version": 3
   },
   "file_extension": ".py",
   "mimetype": "text/x-python",
   "name": "python",
   "nbconvert_exporter": "python",
   "pygments_lexer": "ipython3",
   "version": "3.9.13"
  },
  "orig_nbformat": 4,
  "vscode": {
   "interpreter": {
    "hash": "ad2bdc8ecc057115af97d19610ffacc2b4e99fae6737bb82f5d7fb13d2f2c186"
   }
  }
 },
 "nbformat": 4,
 "nbformat_minor": 2
}
