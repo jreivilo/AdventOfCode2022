{
 "cells": [
  {
   "cell_type": "code",
   "execution_count": 96,
   "metadata": {},
   "outputs": [],
   "source": [
    "#read txt\n",
    "import pandas as pd\n",
    "import numpy as np\n",
    "import re\n",
    "import matplotlib.pyplot as plt\n",
    "openfile = open('J05.txt','r')\n",
    "list = []\n",
    "list = openfile.readlines()\n",
    "\n",
    "for i in range(len(list)):\n",
    "    list[i] = list[i].replace('\\n','')\n",
    "    \n",
    "#extract number from list   \n",
    "list1 = []\n",
    "for i in range(len(list)):\n",
    "    list1.append(re.findall(r'\\d+',list[i]))\n",
    "list = list1\n",
    "\n",
    "#list from str to int\n",
    "for i in range(len(list)):\n",
    "    for j in range(len(list[i])):\n",
    "        list[i][j] = int(list[i][j])"
   ]
  },
  {
   "cell_type": "code",
   "execution_count": 97,
   "metadata": {},
   "outputs": [],
   "source": [
    "lista = ['G','J','W','R','F','T','Z']\n",
    "listb = ['M','W','G']\n",
    "listc = ['G','H','N','J']\n",
    "listd = ['W','N','C','R','J']\n",
    "liste = ['M','V','Q','G','B','S','F','W']\n",
    "listf = ['C','w','V','D','T','R','S']\n",
    "listg = ['V','G','Z','D','C','N','B','H']\n",
    "listh = ['C','G','M','N','J','S']\n",
    "listi = ['L','D','J','C','W','N','P','G']\n",
    "\n",
    "#merge all list in a list\n",
    "listall = [lista,listb,listc,listd,liste,listf,listg,listh,listi]\n"
   ]
  },
  {
   "cell_type": "code",
   "execution_count": 99,
   "metadata": {},
   "outputs": [
    {
     "name": "stdout",
     "output_type": "stream",
     "text": [
      "CWMTGHBDW"
     ]
    }
   ],
   "source": [
    "for i in range(len(list)):\n",
    "    t = list[i][0]\n",
    "    while t > 0:\n",
    "        #move the first element\n",
    "        listall[list[i][2]-1].insert(0,listall[list[i][1]-1][0])\n",
    "        #delete the first element\n",
    "        listall[list[i][1]-1].pop(0)\n",
    "        t = t - 1\n",
    "#printf first element of each list on one line\n",
    "for i in range(len(listall)):\n",
    "    print(listall[i][0],end = '')"
   ]
  },
  {
   "cell_type": "code",
   "execution_count": null,
   "metadata": {},
   "outputs": [],
   "source": []
  },
  {
   "cell_type": "code",
   "execution_count": 105,
   "metadata": {},
   "outputs": [
    {
     "name": "stdout",
     "output_type": "stream",
     "text": [
      "SSCGWJCRB"
     ]
    }
   ],
   "source": [
    "lista = ['G','J','W','R','F','T','Z']\n",
    "listb = ['M','W','G']\n",
    "listc = ['G','H','N','J']\n",
    "listd = ['W','N','C','R','J']\n",
    "liste = ['M','V','Q','G','B','S','F','W']\n",
    "listf = ['C','w','V','D','T','R','S']\n",
    "listg = ['V','G','Z','D','C','N','B','H']\n",
    "listh = ['C','G','M','N','J','S']\n",
    "listi = ['L','D','J','C','W','N','P','G']\n",
    "\n",
    "#merge all list in a list\n",
    "listall = [lista,listb,listc,listd,liste,listf,listg,listh,listi]\n",
    "\n",
    "\n",
    "for i in range(len(list)):\n",
    "    t = list[i][0]\n",
    "    if t == 1:\n",
    "        #move the first element\n",
    "        listall[list[i][2]-1].insert(0,listall[list[i][1]-1][0])\n",
    "        #delete the first element\n",
    "        listall[list[i][1]-1].pop(0)\n",
    "        t = t - 1\n",
    "    else:\n",
    "        while t > 0:\n",
    "            #move the first element\n",
    "            listall[list[i][2]-1].insert(0,listall[list[i][1]-1][0 + t - 1])\n",
    "            t = t - 1\n",
    "        t = list[i][0]\n",
    "        while t > 0:\n",
    "            #delete the first element\n",
    "            listall[list[i][1]-1].pop(0)\n",
    "            t = t - 1\n",
    "#printf first element of each list on one line\n",
    "for i in range(len(listall)):\n",
    "    print(listall[i][0],end = '')"
   ]
  }
 ],
 "metadata": {
  "kernelspec": {
   "display_name": "Python 3.9.13 ('base')",
   "language": "python",
   "name": "python3"
  },
  "language_info": {
   "codemirror_mode": {
    "name": "ipython",
    "version": 3
   },
   "file_extension": ".py",
   "mimetype": "text/x-python",
   "name": "python",
   "nbconvert_exporter": "python",
   "pygments_lexer": "ipython3",
   "version": "3.9.13"
  },
  "orig_nbformat": 4,
  "vscode": {
   "interpreter": {
    "hash": "ad2bdc8ecc057115af97d19610ffacc2b4e99fae6737bb82f5d7fb13d2f2c186"
   }
  }
 },
 "nbformat": 4,
 "nbformat_minor": 2
}
