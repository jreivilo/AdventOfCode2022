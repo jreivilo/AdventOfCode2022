{
 "cells": [
  {
   "cell_type": "code",
   "execution_count": 81,
   "metadata": {},
   "outputs": [],
   "source": [
    "#read txt\n",
    "import pandas as pd\n",
    "import numpy as np\n",
    "import matplotlib.pyplot as plt\n",
    "openfile = open('J03.txt','r')\n",
    "list = []\n",
    "list = openfile.readlines()\n",
    "\n",
    "for i in range(len(list)):\n",
    "    list[i] = list[i].replace('\\n','')"
   ]
  },
  {
   "cell_type": "code",
   "execution_count": 82,
   "metadata": {},
   "outputs": [
    {
     "name": "stdout",
     "output_type": "stream",
     "text": [
      "8243\n"
     ]
    }
   ],
   "source": [
    "list_letter = [\"abcdefghijklmnopqrstuvwxyzABCDEFGHIJKLMNOPQRSTUVWXYZ\"]\n",
    "\n",
    "def getdata(sentence):\n",
    "    s1 = sentence[0:(len(sentence)//2)]\n",
    "    s2 = sentence[len(sentence)//2:len(sentence)]\n",
    "    return s1,s2\n",
    "\n",
    "def check_similarity(s1,s2):\n",
    "    count = 0\n",
    "    for i in range(len(s1)):\n",
    "        for j in range(len(s2)):\n",
    "            if s1[i] == s2[j]:\n",
    "                return s1[i]\n",
    "\n",
    "def find_letter(list_letter, c):\n",
    "    score = 0\n",
    "    for i in range(52):\n",
    "        if c in list_letter[0][i]:\n",
    "            score = i + 1\n",
    "            return (score)\n",
    "\n",
    "tot = 0\n",
    "for i in range(len(list)):\n",
    "    s1,s2 = getdata(list[i])\n",
    "    c = check_similarity(s1,s2)\n",
    "    tot += find_letter(list_letter, c)\n",
    "print(tot)\n"
   ]
  },
  {
   "cell_type": "code",
   "execution_count": 83,
   "metadata": {},
   "outputs": [
    {
     "name": "stdout",
     "output_type": "stream",
     "text": [
      "2631\n"
     ]
    }
   ],
   "source": [
    "def check_similarity(s1,s2, s3):\n",
    "    count = 0\n",
    "    for i in range(len(s1)):\n",
    "        for j in range(len(s2)):\n",
    "            for k in range(len(s3)):\n",
    "                if s1[i] == s2[j] == s3[k]:\n",
    "                    return s1[i]\n",
    "\n",
    "def get_data(sentence):\n",
    "    s1 = sentence[0:(len(sentence)//3)]\n",
    "    s2 = sentence[len(sentence)//3:2*(len(sentence)//3)]\n",
    "    s3 = sentence[2*(len(sentence)//3):len(sentence)]\n",
    "    return s1,s2,s3\n",
    "           \n",
    "           \n",
    "tot = 0          \n",
    "for i in range(len(list)//3):\n",
    "    s1 = list[3*i]\n",
    "    s2 = list[3*i+1]\n",
    "    s3 = list[3*i+2]\n",
    "    c = check_similarity(s1,s2,s3)\n",
    "    tot += find_letter(list_letter, c)\n",
    "print(tot)\n"
   ]
  }
 ],
 "metadata": {
  "kernelspec": {
   "display_name": "Python 3.9.13 ('base')",
   "language": "python",
   "name": "python3"
  },
  "language_info": {
   "codemirror_mode": {
    "name": "ipython",
    "version": 3
   },
   "file_extension": ".py",
   "mimetype": "text/x-python",
   "name": "python",
   "nbconvert_exporter": "python",
   "pygments_lexer": "ipython3",
   "version": "3.9.13"
  },
  "orig_nbformat": 4,
  "vscode": {
   "interpreter": {
    "hash": "ad2bdc8ecc057115af97d19610ffacc2b4e99fae6737bb82f5d7fb13d2f2c186"
   }
  }
 },
 "nbformat": 4,
 "nbformat_minor": 2
}
